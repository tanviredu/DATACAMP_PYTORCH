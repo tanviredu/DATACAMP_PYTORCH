{
  "nbformat": 4,
  "nbformat_minor": 0,
  "metadata": {
    "colab": {
      "name": "Pytorch-Tutorial.ipynb",
      "provenance": [],
      "collapsed_sections": [],
      "authorship_tag": "ABX9TyPnsdXljY5bqO+w19L1kVUr",
      "include_colab_link": true
    },
    "kernelspec": {
      "name": "python3",
      "display_name": "Python 3"
    },
    "widgets": {
      "application/vnd.jupyter.widget-state+json": {
        "f2fab16871384b03b8d42232081ecdab": {
          "model_module": "@jupyter-widgets/controls",
          "model_name": "HBoxModel",
          "state": {
            "_view_name": "HBoxView",
            "_dom_classes": [],
            "_model_name": "HBoxModel",
            "_view_module": "@jupyter-widgets/controls",
            "_model_module_version": "1.5.0",
            "_view_count": null,
            "_view_module_version": "1.5.0",
            "box_style": "",
            "layout": "IPY_MODEL_253c53f41567430493fb0bccf3a5c4a2",
            "_model_module": "@jupyter-widgets/controls",
            "children": [
              "IPY_MODEL_306c27eadb5a46d3b02233d6cf8520f3",
              "IPY_MODEL_b739247b6e3e42d88bec4cd06ace1169"
            ]
          }
        },
        "253c53f41567430493fb0bccf3a5c4a2": {
          "model_module": "@jupyter-widgets/base",
          "model_name": "LayoutModel",
          "state": {
            "_view_name": "LayoutView",
            "grid_template_rows": null,
            "right": null,
            "justify_content": null,
            "_view_module": "@jupyter-widgets/base",
            "overflow": null,
            "_model_module_version": "1.2.0",
            "_view_count": null,
            "flex_flow": null,
            "width": null,
            "min_width": null,
            "border": null,
            "align_items": null,
            "bottom": null,
            "_model_module": "@jupyter-widgets/base",
            "top": null,
            "grid_column": null,
            "overflow_y": null,
            "overflow_x": null,
            "grid_auto_flow": null,
            "grid_area": null,
            "grid_template_columns": null,
            "flex": null,
            "_model_name": "LayoutModel",
            "justify_items": null,
            "grid_row": null,
            "max_height": null,
            "align_content": null,
            "visibility": null,
            "align_self": null,
            "height": null,
            "min_height": null,
            "padding": null,
            "grid_auto_rows": null,
            "grid_gap": null,
            "max_width": null,
            "order": null,
            "_view_module_version": "1.2.0",
            "grid_template_areas": null,
            "object_position": null,
            "object_fit": null,
            "grid_auto_columns": null,
            "margin": null,
            "display": null,
            "left": null
          }
        },
        "306c27eadb5a46d3b02233d6cf8520f3": {
          "model_module": "@jupyter-widgets/controls",
          "model_name": "FloatProgressModel",
          "state": {
            "_view_name": "ProgressView",
            "style": "IPY_MODEL_79e5178417ec4d8e85cbe86ec067942f",
            "_dom_classes": [],
            "description": "",
            "_model_name": "FloatProgressModel",
            "bar_style": "info",
            "max": 1,
            "_view_module": "@jupyter-widgets/controls",
            "_model_module_version": "1.5.0",
            "value": 1,
            "_view_count": null,
            "_view_module_version": "1.5.0",
            "orientation": "horizontal",
            "min": 0,
            "description_tooltip": null,
            "_model_module": "@jupyter-widgets/controls",
            "layout": "IPY_MODEL_771982465e504b5e96a23a0660302e1e"
          }
        },
        "b739247b6e3e42d88bec4cd06ace1169": {
          "model_module": "@jupyter-widgets/controls",
          "model_name": "HTMLModel",
          "state": {
            "_view_name": "HTMLView",
            "style": "IPY_MODEL_1830c2ab457e4d448d9d283dd7808dd8",
            "_dom_classes": [],
            "description": "",
            "_model_name": "HTMLModel",
            "placeholder": "​",
            "_view_module": "@jupyter-widgets/controls",
            "_model_module_version": "1.5.0",
            "value": " 9920512/? [00:20&lt;00:00, 2702012.19it/s]",
            "_view_count": null,
            "_view_module_version": "1.5.0",
            "description_tooltip": null,
            "_model_module": "@jupyter-widgets/controls",
            "layout": "IPY_MODEL_2804c857ada74c21ab019a95a4862001"
          }
        },
        "79e5178417ec4d8e85cbe86ec067942f": {
          "model_module": "@jupyter-widgets/controls",
          "model_name": "ProgressStyleModel",
          "state": {
            "_view_name": "StyleView",
            "_model_name": "ProgressStyleModel",
            "description_width": "initial",
            "_view_module": "@jupyter-widgets/base",
            "_model_module_version": "1.5.0",
            "_view_count": null,
            "_view_module_version": "1.2.0",
            "bar_color": null,
            "_model_module": "@jupyter-widgets/controls"
          }
        },
        "771982465e504b5e96a23a0660302e1e": {
          "model_module": "@jupyter-widgets/base",
          "model_name": "LayoutModel",
          "state": {
            "_view_name": "LayoutView",
            "grid_template_rows": null,
            "right": null,
            "justify_content": null,
            "_view_module": "@jupyter-widgets/base",
            "overflow": null,
            "_model_module_version": "1.2.0",
            "_view_count": null,
            "flex_flow": null,
            "width": null,
            "min_width": null,
            "border": null,
            "align_items": null,
            "bottom": null,
            "_model_module": "@jupyter-widgets/base",
            "top": null,
            "grid_column": null,
            "overflow_y": null,
            "overflow_x": null,
            "grid_auto_flow": null,
            "grid_area": null,
            "grid_template_columns": null,
            "flex": null,
            "_model_name": "LayoutModel",
            "justify_items": null,
            "grid_row": null,
            "max_height": null,
            "align_content": null,
            "visibility": null,
            "align_self": null,
            "height": null,
            "min_height": null,
            "padding": null,
            "grid_auto_rows": null,
            "grid_gap": null,
            "max_width": null,
            "order": null,
            "_view_module_version": "1.2.0",
            "grid_template_areas": null,
            "object_position": null,
            "object_fit": null,
            "grid_auto_columns": null,
            "margin": null,
            "display": null,
            "left": null
          }
        },
        "1830c2ab457e4d448d9d283dd7808dd8": {
          "model_module": "@jupyter-widgets/controls",
          "model_name": "DescriptionStyleModel",
          "state": {
            "_view_name": "StyleView",
            "_model_name": "DescriptionStyleModel",
            "description_width": "",
            "_view_module": "@jupyter-widgets/base",
            "_model_module_version": "1.5.0",
            "_view_count": null,
            "_view_module_version": "1.2.0",
            "_model_module": "@jupyter-widgets/controls"
          }
        },
        "2804c857ada74c21ab019a95a4862001": {
          "model_module": "@jupyter-widgets/base",
          "model_name": "LayoutModel",
          "state": {
            "_view_name": "LayoutView",
            "grid_template_rows": null,
            "right": null,
            "justify_content": null,
            "_view_module": "@jupyter-widgets/base",
            "overflow": null,
            "_model_module_version": "1.2.0",
            "_view_count": null,
            "flex_flow": null,
            "width": null,
            "min_width": null,
            "border": null,
            "align_items": null,
            "bottom": null,
            "_model_module": "@jupyter-widgets/base",
            "top": null,
            "grid_column": null,
            "overflow_y": null,
            "overflow_x": null,
            "grid_auto_flow": null,
            "grid_area": null,
            "grid_template_columns": null,
            "flex": null,
            "_model_name": "LayoutModel",
            "justify_items": null,
            "grid_row": null,
            "max_height": null,
            "align_content": null,
            "visibility": null,
            "align_self": null,
            "height": null,
            "min_height": null,
            "padding": null,
            "grid_auto_rows": null,
            "grid_gap": null,
            "max_width": null,
            "order": null,
            "_view_module_version": "1.2.0",
            "grid_template_areas": null,
            "object_position": null,
            "object_fit": null,
            "grid_auto_columns": null,
            "margin": null,
            "display": null,
            "left": null
          }
        },
        "a054878c3af54a6383384bdffa81efe7": {
          "model_module": "@jupyter-widgets/controls",
          "model_name": "HBoxModel",
          "state": {
            "_view_name": "HBoxView",
            "_dom_classes": [],
            "_model_name": "HBoxModel",
            "_view_module": "@jupyter-widgets/controls",
            "_model_module_version": "1.5.0",
            "_view_count": null,
            "_view_module_version": "1.5.0",
            "box_style": "",
            "layout": "IPY_MODEL_1f9071d744c94a0299a35b95d66beb10",
            "_model_module": "@jupyter-widgets/controls",
            "children": [
              "IPY_MODEL_66962fc5d33744ca9c46a827f79f1425",
              "IPY_MODEL_05d81aea284e461093ad67d76af91b5d"
            ]
          }
        },
        "1f9071d744c94a0299a35b95d66beb10": {
          "model_module": "@jupyter-widgets/base",
          "model_name": "LayoutModel",
          "state": {
            "_view_name": "LayoutView",
            "grid_template_rows": null,
            "right": null,
            "justify_content": null,
            "_view_module": "@jupyter-widgets/base",
            "overflow": null,
            "_model_module_version": "1.2.0",
            "_view_count": null,
            "flex_flow": null,
            "width": null,
            "min_width": null,
            "border": null,
            "align_items": null,
            "bottom": null,
            "_model_module": "@jupyter-widgets/base",
            "top": null,
            "grid_column": null,
            "overflow_y": null,
            "overflow_x": null,
            "grid_auto_flow": null,
            "grid_area": null,
            "grid_template_columns": null,
            "flex": null,
            "_model_name": "LayoutModel",
            "justify_items": null,
            "grid_row": null,
            "max_height": null,
            "align_content": null,
            "visibility": null,
            "align_self": null,
            "height": null,
            "min_height": null,
            "padding": null,
            "grid_auto_rows": null,
            "grid_gap": null,
            "max_width": null,
            "order": null,
            "_view_module_version": "1.2.0",
            "grid_template_areas": null,
            "object_position": null,
            "object_fit": null,
            "grid_auto_columns": null,
            "margin": null,
            "display": null,
            "left": null
          }
        },
        "66962fc5d33744ca9c46a827f79f1425": {
          "model_module": "@jupyter-widgets/controls",
          "model_name": "FloatProgressModel",
          "state": {
            "_view_name": "ProgressView",
            "style": "IPY_MODEL_f624e7cf709c4a8dbc6d42661e8438b8",
            "_dom_classes": [],
            "description": "  0%",
            "_model_name": "FloatProgressModel",
            "bar_style": "info",
            "max": 1,
            "_view_module": "@jupyter-widgets/controls",
            "_model_module_version": "1.5.0",
            "value": 0,
            "_view_count": null,
            "_view_module_version": "1.5.0",
            "orientation": "horizontal",
            "min": 0,
            "description_tooltip": null,
            "_model_module": "@jupyter-widgets/controls",
            "layout": "IPY_MODEL_2069eac9518f4f6b856c27370be4780b"
          }
        },
        "05d81aea284e461093ad67d76af91b5d": {
          "model_module": "@jupyter-widgets/controls",
          "model_name": "HTMLModel",
          "state": {
            "_view_name": "HTMLView",
            "style": "IPY_MODEL_020a1317f77c42f6af40c5ee4a6e7e4a",
            "_dom_classes": [],
            "description": "",
            "_model_name": "HTMLModel",
            "placeholder": "​",
            "_view_module": "@jupyter-widgets/controls",
            "_model_module_version": "1.5.0",
            "value": " 0/28881 [00:00&lt;?, ?it/s]",
            "_view_count": null,
            "_view_module_version": "1.5.0",
            "description_tooltip": null,
            "_model_module": "@jupyter-widgets/controls",
            "layout": "IPY_MODEL_4600568f17354a659bdd2fc67cc11ef0"
          }
        },
        "f624e7cf709c4a8dbc6d42661e8438b8": {
          "model_module": "@jupyter-widgets/controls",
          "model_name": "ProgressStyleModel",
          "state": {
            "_view_name": "StyleView",
            "_model_name": "ProgressStyleModel",
            "description_width": "initial",
            "_view_module": "@jupyter-widgets/base",
            "_model_module_version": "1.5.0",
            "_view_count": null,
            "_view_module_version": "1.2.0",
            "bar_color": null,
            "_model_module": "@jupyter-widgets/controls"
          }
        },
        "2069eac9518f4f6b856c27370be4780b": {
          "model_module": "@jupyter-widgets/base",
          "model_name": "LayoutModel",
          "state": {
            "_view_name": "LayoutView",
            "grid_template_rows": null,
            "right": null,
            "justify_content": null,
            "_view_module": "@jupyter-widgets/base",
            "overflow": null,
            "_model_module_version": "1.2.0",
            "_view_count": null,
            "flex_flow": null,
            "width": null,
            "min_width": null,
            "border": null,
            "align_items": null,
            "bottom": null,
            "_model_module": "@jupyter-widgets/base",
            "top": null,
            "grid_column": null,
            "overflow_y": null,
            "overflow_x": null,
            "grid_auto_flow": null,
            "grid_area": null,
            "grid_template_columns": null,
            "flex": null,
            "_model_name": "LayoutModel",
            "justify_items": null,
            "grid_row": null,
            "max_height": null,
            "align_content": null,
            "visibility": null,
            "align_self": null,
            "height": null,
            "min_height": null,
            "padding": null,
            "grid_auto_rows": null,
            "grid_gap": null,
            "max_width": null,
            "order": null,
            "_view_module_version": "1.2.0",
            "grid_template_areas": null,
            "object_position": null,
            "object_fit": null,
            "grid_auto_columns": null,
            "margin": null,
            "display": null,
            "left": null
          }
        },
        "020a1317f77c42f6af40c5ee4a6e7e4a": {
          "model_module": "@jupyter-widgets/controls",
          "model_name": "DescriptionStyleModel",
          "state": {
            "_view_name": "StyleView",
            "_model_name": "DescriptionStyleModel",
            "description_width": "",
            "_view_module": "@jupyter-widgets/base",
            "_model_module_version": "1.5.0",
            "_view_count": null,
            "_view_module_version": "1.2.0",
            "_model_module": "@jupyter-widgets/controls"
          }
        },
        "4600568f17354a659bdd2fc67cc11ef0": {
          "model_module": "@jupyter-widgets/base",
          "model_name": "LayoutModel",
          "state": {
            "_view_name": "LayoutView",
            "grid_template_rows": null,
            "right": null,
            "justify_content": null,
            "_view_module": "@jupyter-widgets/base",
            "overflow": null,
            "_model_module_version": "1.2.0",
            "_view_count": null,
            "flex_flow": null,
            "width": null,
            "min_width": null,
            "border": null,
            "align_items": null,
            "bottom": null,
            "_model_module": "@jupyter-widgets/base",
            "top": null,
            "grid_column": null,
            "overflow_y": null,
            "overflow_x": null,
            "grid_auto_flow": null,
            "grid_area": null,
            "grid_template_columns": null,
            "flex": null,
            "_model_name": "LayoutModel",
            "justify_items": null,
            "grid_row": null,
            "max_height": null,
            "align_content": null,
            "visibility": null,
            "align_self": null,
            "height": null,
            "min_height": null,
            "padding": null,
            "grid_auto_rows": null,
            "grid_gap": null,
            "max_width": null,
            "order": null,
            "_view_module_version": "1.2.0",
            "grid_template_areas": null,
            "object_position": null,
            "object_fit": null,
            "grid_auto_columns": null,
            "margin": null,
            "display": null,
            "left": null
          }
        },
        "fd3234ce4fb6443994b36e40a4fce64d": {
          "model_module": "@jupyter-widgets/controls",
          "model_name": "HBoxModel",
          "state": {
            "_view_name": "HBoxView",
            "_dom_classes": [],
            "_model_name": "HBoxModel",
            "_view_module": "@jupyter-widgets/controls",
            "_model_module_version": "1.5.0",
            "_view_count": null,
            "_view_module_version": "1.5.0",
            "box_style": "",
            "layout": "IPY_MODEL_951e9bd17ad14a9a93fcf12247daf9de",
            "_model_module": "@jupyter-widgets/controls",
            "children": [
              "IPY_MODEL_2cb4997a311846d7b14da000a8f48737",
              "IPY_MODEL_cdc88cc91bbe4c3397e3a3bef4466e95"
            ]
          }
        },
        "951e9bd17ad14a9a93fcf12247daf9de": {
          "model_module": "@jupyter-widgets/base",
          "model_name": "LayoutModel",
          "state": {
            "_view_name": "LayoutView",
            "grid_template_rows": null,
            "right": null,
            "justify_content": null,
            "_view_module": "@jupyter-widgets/base",
            "overflow": null,
            "_model_module_version": "1.2.0",
            "_view_count": null,
            "flex_flow": null,
            "width": null,
            "min_width": null,
            "border": null,
            "align_items": null,
            "bottom": null,
            "_model_module": "@jupyter-widgets/base",
            "top": null,
            "grid_column": null,
            "overflow_y": null,
            "overflow_x": null,
            "grid_auto_flow": null,
            "grid_area": null,
            "grid_template_columns": null,
            "flex": null,
            "_model_name": "LayoutModel",
            "justify_items": null,
            "grid_row": null,
            "max_height": null,
            "align_content": null,
            "visibility": null,
            "align_self": null,
            "height": null,
            "min_height": null,
            "padding": null,
            "grid_auto_rows": null,
            "grid_gap": null,
            "max_width": null,
            "order": null,
            "_view_module_version": "1.2.0",
            "grid_template_areas": null,
            "object_position": null,
            "object_fit": null,
            "grid_auto_columns": null,
            "margin": null,
            "display": null,
            "left": null
          }
        },
        "2cb4997a311846d7b14da000a8f48737": {
          "model_module": "@jupyter-widgets/controls",
          "model_name": "FloatProgressModel",
          "state": {
            "_view_name": "ProgressView",
            "style": "IPY_MODEL_1e25e4155a314d2abadf9725deba06aa",
            "_dom_classes": [],
            "description": "",
            "_model_name": "FloatProgressModel",
            "bar_style": "success",
            "max": 1,
            "_view_module": "@jupyter-widgets/controls",
            "_model_module_version": "1.5.0",
            "value": 1,
            "_view_count": null,
            "_view_module_version": "1.5.0",
            "orientation": "horizontal",
            "min": 0,
            "description_tooltip": null,
            "_model_module": "@jupyter-widgets/controls",
            "layout": "IPY_MODEL_09387e37aba644dfb4541f2094cf1942"
          }
        },
        "cdc88cc91bbe4c3397e3a3bef4466e95": {
          "model_module": "@jupyter-widgets/controls",
          "model_name": "HTMLModel",
          "state": {
            "_view_name": "HTMLView",
            "style": "IPY_MODEL_9c75bcaabfa74836b00f000442e86c06",
            "_dom_classes": [],
            "description": "",
            "_model_name": "HTMLModel",
            "placeholder": "​",
            "_view_module": "@jupyter-widgets/controls",
            "_model_module_version": "1.5.0",
            "value": " 1654784/? [00:00&lt;00:00, 2603214.53it/s]",
            "_view_count": null,
            "_view_module_version": "1.5.0",
            "description_tooltip": null,
            "_model_module": "@jupyter-widgets/controls",
            "layout": "IPY_MODEL_41b27ff0d89d43c18c8c6adb47fb3813"
          }
        },
        "1e25e4155a314d2abadf9725deba06aa": {
          "model_module": "@jupyter-widgets/controls",
          "model_name": "ProgressStyleModel",
          "state": {
            "_view_name": "StyleView",
            "_model_name": "ProgressStyleModel",
            "description_width": "initial",
            "_view_module": "@jupyter-widgets/base",
            "_model_module_version": "1.5.0",
            "_view_count": null,
            "_view_module_version": "1.2.0",
            "bar_color": null,
            "_model_module": "@jupyter-widgets/controls"
          }
        },
        "09387e37aba644dfb4541f2094cf1942": {
          "model_module": "@jupyter-widgets/base",
          "model_name": "LayoutModel",
          "state": {
            "_view_name": "LayoutView",
            "grid_template_rows": null,
            "right": null,
            "justify_content": null,
            "_view_module": "@jupyter-widgets/base",
            "overflow": null,
            "_model_module_version": "1.2.0",
            "_view_count": null,
            "flex_flow": null,
            "width": null,
            "min_width": null,
            "border": null,
            "align_items": null,
            "bottom": null,
            "_model_module": "@jupyter-widgets/base",
            "top": null,
            "grid_column": null,
            "overflow_y": null,
            "overflow_x": null,
            "grid_auto_flow": null,
            "grid_area": null,
            "grid_template_columns": null,
            "flex": null,
            "_model_name": "LayoutModel",
            "justify_items": null,
            "grid_row": null,
            "max_height": null,
            "align_content": null,
            "visibility": null,
            "align_self": null,
            "height": null,
            "min_height": null,
            "padding": null,
            "grid_auto_rows": null,
            "grid_gap": null,
            "max_width": null,
            "order": null,
            "_view_module_version": "1.2.0",
            "grid_template_areas": null,
            "object_position": null,
            "object_fit": null,
            "grid_auto_columns": null,
            "margin": null,
            "display": null,
            "left": null
          }
        },
        "9c75bcaabfa74836b00f000442e86c06": {
          "model_module": "@jupyter-widgets/controls",
          "model_name": "DescriptionStyleModel",
          "state": {
            "_view_name": "StyleView",
            "_model_name": "DescriptionStyleModel",
            "description_width": "",
            "_view_module": "@jupyter-widgets/base",
            "_model_module_version": "1.5.0",
            "_view_count": null,
            "_view_module_version": "1.2.0",
            "_model_module": "@jupyter-widgets/controls"
          }
        },
        "41b27ff0d89d43c18c8c6adb47fb3813": {
          "model_module": "@jupyter-widgets/base",
          "model_name": "LayoutModel",
          "state": {
            "_view_name": "LayoutView",
            "grid_template_rows": null,
            "right": null,
            "justify_content": null,
            "_view_module": "@jupyter-widgets/base",
            "overflow": null,
            "_model_module_version": "1.2.0",
            "_view_count": null,
            "flex_flow": null,
            "width": null,
            "min_width": null,
            "border": null,
            "align_items": null,
            "bottom": null,
            "_model_module": "@jupyter-widgets/base",
            "top": null,
            "grid_column": null,
            "overflow_y": null,
            "overflow_x": null,
            "grid_auto_flow": null,
            "grid_area": null,
            "grid_template_columns": null,
            "flex": null,
            "_model_name": "LayoutModel",
            "justify_items": null,
            "grid_row": null,
            "max_height": null,
            "align_content": null,
            "visibility": null,
            "align_self": null,
            "height": null,
            "min_height": null,
            "padding": null,
            "grid_auto_rows": null,
            "grid_gap": null,
            "max_width": null,
            "order": null,
            "_view_module_version": "1.2.0",
            "grid_template_areas": null,
            "object_position": null,
            "object_fit": null,
            "grid_auto_columns": null,
            "margin": null,
            "display": null,
            "left": null
          }
        },
        "11f2826e868547838e340e46682af425": {
          "model_module": "@jupyter-widgets/controls",
          "model_name": "HBoxModel",
          "state": {
            "_view_name": "HBoxView",
            "_dom_classes": [],
            "_model_name": "HBoxModel",
            "_view_module": "@jupyter-widgets/controls",
            "_model_module_version": "1.5.0",
            "_view_count": null,
            "_view_module_version": "1.5.0",
            "box_style": "",
            "layout": "IPY_MODEL_b9577359512345d3a443f8c7529d678b",
            "_model_module": "@jupyter-widgets/controls",
            "children": [
              "IPY_MODEL_3111f02b0f2f4c1fab9da0c716ce3725",
              "IPY_MODEL_f2bc428c97c142df8d45ab0f01f39ec0"
            ]
          }
        },
        "b9577359512345d3a443f8c7529d678b": {
          "model_module": "@jupyter-widgets/base",
          "model_name": "LayoutModel",
          "state": {
            "_view_name": "LayoutView",
            "grid_template_rows": null,
            "right": null,
            "justify_content": null,
            "_view_module": "@jupyter-widgets/base",
            "overflow": null,
            "_model_module_version": "1.2.0",
            "_view_count": null,
            "flex_flow": null,
            "width": null,
            "min_width": null,
            "border": null,
            "align_items": null,
            "bottom": null,
            "_model_module": "@jupyter-widgets/base",
            "top": null,
            "grid_column": null,
            "overflow_y": null,
            "overflow_x": null,
            "grid_auto_flow": null,
            "grid_area": null,
            "grid_template_columns": null,
            "flex": null,
            "_model_name": "LayoutModel",
            "justify_items": null,
            "grid_row": null,
            "max_height": null,
            "align_content": null,
            "visibility": null,
            "align_self": null,
            "height": null,
            "min_height": null,
            "padding": null,
            "grid_auto_rows": null,
            "grid_gap": null,
            "max_width": null,
            "order": null,
            "_view_module_version": "1.2.0",
            "grid_template_areas": null,
            "object_position": null,
            "object_fit": null,
            "grid_auto_columns": null,
            "margin": null,
            "display": null,
            "left": null
          }
        },
        "3111f02b0f2f4c1fab9da0c716ce3725": {
          "model_module": "@jupyter-widgets/controls",
          "model_name": "FloatProgressModel",
          "state": {
            "_view_name": "ProgressView",
            "style": "IPY_MODEL_ca45f5f045cd4f3d8c0904ccdaf3b0e7",
            "_dom_classes": [],
            "description": "",
            "_model_name": "FloatProgressModel",
            "bar_style": "success",
            "max": 1,
            "_view_module": "@jupyter-widgets/controls",
            "_model_module_version": "1.5.0",
            "value": 1,
            "_view_count": null,
            "_view_module_version": "1.5.0",
            "orientation": "horizontal",
            "min": 0,
            "description_tooltip": null,
            "_model_module": "@jupyter-widgets/controls",
            "layout": "IPY_MODEL_402a088c75bc461b852e816e5cc4c272"
          }
        },
        "f2bc428c97c142df8d45ab0f01f39ec0": {
          "model_module": "@jupyter-widgets/controls",
          "model_name": "HTMLModel",
          "state": {
            "_view_name": "HTMLView",
            "style": "IPY_MODEL_bc5e915ea4f4460c9b5251fdd389cb81",
            "_dom_classes": [],
            "description": "",
            "_model_name": "HTMLModel",
            "placeholder": "​",
            "_view_module": "@jupyter-widgets/controls",
            "_model_module_version": "1.5.0",
            "value": " 8192/? [00:00&lt;00:00, 27255.90it/s]",
            "_view_count": null,
            "_view_module_version": "1.5.0",
            "description_tooltip": null,
            "_model_module": "@jupyter-widgets/controls",
            "layout": "IPY_MODEL_49d19419fe194b7cb912f60eb6f078a6"
          }
        },
        "ca45f5f045cd4f3d8c0904ccdaf3b0e7": {
          "model_module": "@jupyter-widgets/controls",
          "model_name": "ProgressStyleModel",
          "state": {
            "_view_name": "StyleView",
            "_model_name": "ProgressStyleModel",
            "description_width": "initial",
            "_view_module": "@jupyter-widgets/base",
            "_model_module_version": "1.5.0",
            "_view_count": null,
            "_view_module_version": "1.2.0",
            "bar_color": null,
            "_model_module": "@jupyter-widgets/controls"
          }
        },
        "402a088c75bc461b852e816e5cc4c272": {
          "model_module": "@jupyter-widgets/base",
          "model_name": "LayoutModel",
          "state": {
            "_view_name": "LayoutView",
            "grid_template_rows": null,
            "right": null,
            "justify_content": null,
            "_view_module": "@jupyter-widgets/base",
            "overflow": null,
            "_model_module_version": "1.2.0",
            "_view_count": null,
            "flex_flow": null,
            "width": null,
            "min_width": null,
            "border": null,
            "align_items": null,
            "bottom": null,
            "_model_module": "@jupyter-widgets/base",
            "top": null,
            "grid_column": null,
            "overflow_y": null,
            "overflow_x": null,
            "grid_auto_flow": null,
            "grid_area": null,
            "grid_template_columns": null,
            "flex": null,
            "_model_name": "LayoutModel",
            "justify_items": null,
            "grid_row": null,
            "max_height": null,
            "align_content": null,
            "visibility": null,
            "align_self": null,
            "height": null,
            "min_height": null,
            "padding": null,
            "grid_auto_rows": null,
            "grid_gap": null,
            "max_width": null,
            "order": null,
            "_view_module_version": "1.2.0",
            "grid_template_areas": null,
            "object_position": null,
            "object_fit": null,
            "grid_auto_columns": null,
            "margin": null,
            "display": null,
            "left": null
          }
        },
        "bc5e915ea4f4460c9b5251fdd389cb81": {
          "model_module": "@jupyter-widgets/controls",
          "model_name": "DescriptionStyleModel",
          "state": {
            "_view_name": "StyleView",
            "_model_name": "DescriptionStyleModel",
            "description_width": "",
            "_view_module": "@jupyter-widgets/base",
            "_model_module_version": "1.5.0",
            "_view_count": null,
            "_view_module_version": "1.2.0",
            "_model_module": "@jupyter-widgets/controls"
          }
        },
        "49d19419fe194b7cb912f60eb6f078a6": {
          "model_module": "@jupyter-widgets/base",
          "model_name": "LayoutModel",
          "state": {
            "_view_name": "LayoutView",
            "grid_template_rows": null,
            "right": null,
            "justify_content": null,
            "_view_module": "@jupyter-widgets/base",
            "overflow": null,
            "_model_module_version": "1.2.0",
            "_view_count": null,
            "flex_flow": null,
            "width": null,
            "min_width": null,
            "border": null,
            "align_items": null,
            "bottom": null,
            "_model_module": "@jupyter-widgets/base",
            "top": null,
            "grid_column": null,
            "overflow_y": null,
            "overflow_x": null,
            "grid_auto_flow": null,
            "grid_area": null,
            "grid_template_columns": null,
            "flex": null,
            "_model_name": "LayoutModel",
            "justify_items": null,
            "grid_row": null,
            "max_height": null,
            "align_content": null,
            "visibility": null,
            "align_self": null,
            "height": null,
            "min_height": null,
            "padding": null,
            "grid_auto_rows": null,
            "grid_gap": null,
            "max_width": null,
            "order": null,
            "_view_module_version": "1.2.0",
            "grid_template_areas": null,
            "object_position": null,
            "object_fit": null,
            "grid_auto_columns": null,
            "margin": null,
            "display": null,
            "left": null
          }
        }
      }
    }
  },
  "cells": [
    {
      "cell_type": "markdown",
      "metadata": {
        "id": "view-in-github",
        "colab_type": "text"
      },
      "source": [
        "<a href=\"https://colab.research.google.com/github/tanviredu/DATACAMP_PYTORCH/blob/master/Pytorch_Tutorial.ipynb\" target=\"_parent\"><img src=\"https://colab.research.google.com/assets/colab-badge.svg\" alt=\"Open In Colab\"/></a>"
      ]
    },
    {
      "cell_type": "code",
      "metadata": {
        "id": "Z7ok80yIf0HG",
        "colab_type": "code",
        "colab": {}
      },
      "source": [
        "import  torch\n",
        "\n",
        "## create a tensor\n",
        "your_first_tensor = torch.tensor([3,3])\n",
        "## for random tensor\n",
        "your_first_tensor = torch.rand(3,3)"
      ],
      "execution_count": 0,
      "outputs": []
    },
    {
      "cell_type": "code",
      "metadata": {
        "id": "7nOWF5HRgJMm",
        "colab_type": "code",
        "colab": {}
      },
      "source": [
        "## finding tensor size\n",
        "tensor_size = your_first_tensor.size()"
      ],
      "execution_count": 0,
      "outputs": []
    },
    {
      "cell_type": "code",
      "metadata": {
        "id": "b_E6DOgXgoSz",
        "colab_type": "code",
        "colab": {
          "base_uri": "https://localhost:8080/",
          "height": 87
        },
        "outputId": "8c3184e6-2b5e-416f-e85f-75bc2eb4a518"
      },
      "source": [
        "# printing the element\n",
        "print(your_first_tensor)\n",
        "print(tensor_size)"
      ],
      "execution_count": 3,
      "outputs": [
        {
          "output_type": "stream",
          "text": [
            "tensor([[0.7785, 0.2267, 0.7203],\n",
            "        [0.3967, 0.1829, 0.3707],\n",
            "        [0.2280, 0.3377, 0.4439]])\n",
            "torch.Size([3, 3])\n"
          ],
          "name": "stdout"
        }
      ]
    },
    {
      "cell_type": "code",
      "metadata": {
        "id": "FkXJDX3Vgttx",
        "colab_type": "code",
        "colab": {}
      },
      "source": [
        "tensor_of_ones = torch.ones(3,3)\n",
        "## create a identity tensor\n",
        "identity_tensor = torch.eye(3)"
      ],
      "execution_count": 0,
      "outputs": []
    },
    {
      "cell_type": "code",
      "metadata": {
        "id": "WKjzSkHShsu3",
        "colab_type": "code",
        "colab": {
          "base_uri": "https://localhost:8080/",
          "height": 121
        },
        "outputId": "fb70ad2c-5ae2-4792-c897-12e4ca009f79"
      },
      "source": [
        "print(tensor_of_ones)\n",
        "print(identity_tensor)"
      ],
      "execution_count": 5,
      "outputs": [
        {
          "output_type": "stream",
          "text": [
            "tensor([[1., 1., 1.],\n",
            "        [1., 1., 1.],\n",
            "        [1., 1., 1.]])\n",
            "tensor([[1., 0., 0.],\n",
            "        [0., 1., 0.],\n",
            "        [0., 0., 1.]])\n"
          ],
          "name": "stdout"
        }
      ]
    },
    {
      "cell_type": "code",
      "metadata": {
        "id": "SsT49yuohxmD",
        "colab_type": "code",
        "colab": {}
      },
      "source": [
        "### matrix multiplication\n",
        "matrices_multiplied = torch.matmul(tensor_of_ones,identity_tensor)"
      ],
      "execution_count": 0,
      "outputs": []
    },
    {
      "cell_type": "code",
      "metadata": {
        "id": "5pbjIj1eh_2h",
        "colab_type": "code",
        "colab": {
          "base_uri": "https://localhost:8080/",
          "height": 69
        },
        "outputId": "64d55e07-f330-4579-f9a0-9d52f614c31f"
      },
      "source": [
        "print(matrices_multiplied)"
      ],
      "execution_count": 7,
      "outputs": [
        {
          "output_type": "stream",
          "text": [
            "tensor([[1., 1., 1.],\n",
            "        [1., 1., 1.],\n",
            "        [1., 1., 1.]])\n"
          ],
          "name": "stdout"
        }
      ]
    },
    {
      "cell_type": "code",
      "metadata": {
        "id": "m1cSL0B5iB4S",
        "colab_type": "code",
        "colab": {}
      },
      "source": [
        "#### elementwise multiplication\n",
        "element_multiplication = tensor_of_ones * identity_tensor"
      ],
      "execution_count": 0,
      "outputs": []
    },
    {
      "cell_type": "code",
      "metadata": {
        "id": "IBhiiQPNif_Q",
        "colab_type": "code",
        "colab": {
          "base_uri": "https://localhost:8080/",
          "height": 69
        },
        "outputId": "f0d120ac-cdb6-42ac-bf20-f19386b15bb5"
      },
      "source": [
        "print(element_multiplication)"
      ],
      "execution_count": 9,
      "outputs": [
        {
          "output_type": "stream",
          "text": [
            "tensor([[1., 0., 0.],\n",
            "        [0., 1., 0.],\n",
            "        [0., 0., 1.]])\n"
          ],
          "name": "stdout"
        }
      ]
    },
    {
      "cell_type": "code",
      "metadata": {
        "id": "sT-PX-hDiiz_",
        "colab_type": "code",
        "colab": {}
      },
      "source": [
        "## forward propargation\n",
        "## implement a forward propagation \n",
        "## we apply this computational graph"
      ],
      "execution_count": 0,
      "outputs": []
    },
    {
      "cell_type": "markdown",
      "metadata": {
        "id": "ZFqoIJCcjrl2",
        "colab_type": "text"
      },
      "source": [
        "![Computational Graph](https://raw.githubusercontent.com/tanviredu/DATACAMP_PYTORCH/master/graph.PNG)"
      ]
    },
    {
      "cell_type": "code",
      "metadata": {
        "id": "SIlMN40Ajwob",
        "colab_type": "code",
        "colab": {
          "base_uri": "https://localhost:8080/",
          "height": 35
        },
        "outputId": "575c7d91-63fe-4aff-ed06-2b90e6e78dd1"
      },
      "source": [
        "import torch\n",
        "a = torch.Tensor([2])\n",
        "b = torch.Tensor([-4])\n",
        "c = torch.Tensor([-2])\n",
        "d = torch.Tensor([-4])\n",
        "e = a+b\n",
        "f = c+d\n",
        "g = e*f\n",
        "print(e,f,g)"
      ],
      "execution_count": 11,
      "outputs": [
        {
          "output_type": "stream",
          "text": [
            "tensor([-2.]) tensor([-6.]) tensor([12.])\n"
          ],
          "name": "stdout"
        }
      ]
    },
    {
      "cell_type": "code",
      "metadata": {
        "id": "XtQ4Qa_Ulxpk",
        "colab_type": "code",
        "colab": {}
      },
      "source": [
        "## second computation graph"
      ],
      "execution_count": 0,
      "outputs": []
    },
    {
      "cell_type": "markdown",
      "metadata": {
        "id": "y83kS34Ult-8",
        "colab_type": "text"
      },
      "source": [
        "![alt text](https://raw.githubusercontent.com/tanviredu/DATACAMP_PYTORCH/master/graph2.PNG)"
      ]
    },
    {
      "cell_type": "code",
      "metadata": {
        "id": "Oob-8G6-lwq8",
        "colab_type": "code",
        "colab": {}
      },
      "source": [
        "## assigning three random matrix with\n",
        "## shape (1000,1000)\n",
        "import torch\n",
        "x = torch.rand(1000,1000)\n",
        "y = torch.rand(1000,1000)\n",
        "z = torch.rand(1000,1000)"
      ],
      "execution_count": 0,
      "outputs": []
    },
    {
      "cell_type": "code",
      "metadata": {
        "id": "KsidEIWNmNRH",
        "colab_type": "code",
        "colab": {}
      },
      "source": [
        "## multiply (matrix multiplication)\n",
        "q = torch.matmul(x,y)"
      ],
      "execution_count": 0,
      "outputs": []
    },
    {
      "cell_type": "code",
      "metadata": {
        "id": "uV079GGBmgC7",
        "colab_type": "code",
        "colab": {}
      },
      "source": [
        "## now elementwise multiplication\n",
        "f = z*q"
      ],
      "execution_count": 0,
      "outputs": []
    },
    {
      "cell_type": "code",
      "metadata": {
        "id": "FxEw8NiOmqYm",
        "colab_type": "code",
        "colab": {}
      },
      "source": [
        "## find the mean\n",
        "mean_f = torch.mean(f)"
      ],
      "execution_count": 0,
      "outputs": []
    },
    {
      "cell_type": "code",
      "metadata": {
        "id": "3TO9yPTxmw4S",
        "colab_type": "code",
        "colab": {
          "base_uri": "https://localhost:8080/",
          "height": 35
        },
        "outputId": "0cfe3d70-0d50-4f7d-f9cd-a9b2caf62804"
      },
      "source": [
        "print(mean_f)"
      ],
      "execution_count": 17,
      "outputs": [
        {
          "output_type": "stream",
          "text": [
            "tensor(125.1749)\n"
          ],
          "name": "stdout"
        }
      ]
    },
    {
      "cell_type": "code",
      "metadata": {
        "id": "HkCm6nLXmywo",
        "colab_type": "code",
        "colab": {}
      },
      "source": [
        "### back propagation algorithm"
      ],
      "execution_count": 0,
      "outputs": []
    },
    {
      "cell_type": "markdown",
      "metadata": {
        "id": "kkT7-ufyoAQo",
        "colab_type": "text"
      },
      "source": [
        "###**what is derivatives ??** \n",
        "derivatives are one of the most important comcepts in calculas. in laymens term derivatives means the rate of change in a function.is the function is rapidly changing then the value of derivatives is high. and if the function is not changing then the derivatives is close to zero.**they could also be treated as the deepness of the function** if you see the picture if the line is dep then the derivatives is high and point B is very low derivatives![alt text](https://raw.githubusercontent.com/tanviredu/DATACAMP_PYTORCH/master/graph3.PNG)"
      ]
    },
    {
      "cell_type": "markdown",
      "metadata": {
        "id": "0UxarG_LptKi",
        "colab_type": "text"
      },
      "source": [
        "**derivative rule **![alt text](https://raw.githubusercontent.com/tanviredu/DATACAMP_PYTORCH/master/grapf4.PNG)"
      ]
    },
    {
      "cell_type": "code",
      "metadata": {
        "id": "-oQYvgK9qFCW",
        "colab_type": "code",
        "colab": {}
      },
      "source": [
        "## we use the word gradient in terms of derivative\n",
        "## the derivatives / gradient in calculated by the reverse mode of auto\n",
        "## differentiation call backpropagation\n",
        "## lets calculate the derivaties of this computational graph\n"
      ],
      "execution_count": 0,
      "outputs": []
    },
    {
      "cell_type": "markdown",
      "metadata": {
        "id": "yBXHNjjarHUU",
        "colab_type": "text"
      },
      "source": [
        "![alt text](https://raw.githubusercontent.com/tanviredu/DATACAMP_PYTORCH/master/graph5.PNG)"
      ]
    },
    {
      "cell_type": "code",
      "metadata": {
        "id": "5MrnwJeRrJt5",
        "colab_type": "code",
        "colab": {
          "base_uri": "https://localhost:8080/",
          "height": 69
        },
        "outputId": "da211629-4c12-4252-c411-bf6d390171cd"
      },
      "source": [
        "import torch\n",
        "\n",
        "## we initializa the tensor x y and z\n",
        "## remember you need to give a . to make it float\n",
        "## Only Tensors of floating point dtype can require gradients\n",
        "x = torch.tensor(-3.,requires_grad=True)\n",
        "y = torch.tensor(5.,requires_grad=True)\n",
        "z = torch.tensor(-2.,requires_grad=True)\n",
        "\n",
        "# doing the operation\n",
        "q = x+y\n",
        "f = q*z\n",
        "\n",
        "## finally we compute the derivatices \n",
        "## using the backward() method\n",
        "\n",
        "f.backward()\n",
        "\n",
        "print(\"Gradient of z is: \"+str(z.grad))\n",
        "print(\"Gradient of y is: \"+str(y.grad))\n",
        "print(\"Gradient of x is: \"+str(x.grad))\n"
      ],
      "execution_count": 19,
      "outputs": [
        {
          "output_type": "stream",
          "text": [
            "Gradient of z is: tensor(2.)\n",
            "Gradient of y is: tensor(-2.)\n",
            "Gradient of x is: tensor(-2.)\n"
          ],
          "name": "stdout"
        }
      ]
    },
    {
      "cell_type": "code",
      "metadata": {
        "id": "EF-eAIdyr-5c",
        "colab_type": "code",
        "colab": {}
      },
      "source": [
        "## practice derivatives"
      ],
      "execution_count": 0,
      "outputs": []
    },
    {
      "cell_type": "markdown",
      "metadata": {
        "id": "hzQZoP7lsyrJ",
        "colab_type": "text"
      },
      "source": [
        "![alt text](https://raw.githubusercontent.com/tanviredu/DATACAMP_PYTORCH/master/graph6.PNG)"
      ]
    },
    {
      "cell_type": "code",
      "metadata": {
        "id": "4-TXorprs0sn",
        "colab_type": "code",
        "colab": {
          "base_uri": "https://localhost:8080/",
          "height": 69
        },
        "outputId": "bf50a2d7-3159-47ff-c2c8-3a23dfa21ea3"
      },
      "source": [
        "import torch\n",
        "\n",
        "## we initializa the tensor x y and z\n",
        "## remember you need to give a . to make it float\n",
        "## Only Tensors of floating point dtype can require gradients\n",
        "x = torch.tensor(4.,requires_grad=True)\n",
        "y = torch.tensor(-3.,requires_grad=True)\n",
        "z = torch.tensor(5.,requires_grad=True)\n",
        "\n",
        "# doing the operation\n",
        "q = x+y\n",
        "f = q*z\n",
        "\n",
        "## finally we compute the derivatices \n",
        "## using the backward() method\n",
        "\n",
        "f.backward()\n",
        "\n",
        "print(\"Gradient of z is: \"+str(z.grad))\n",
        "print(\"Gradient of y is: \"+str(y.grad))\n",
        "print(\"Gradient of x is: \"+str(x.grad))\n"
      ],
      "execution_count": 21,
      "outputs": [
        {
          "output_type": "stream",
          "text": [
            "Gradient of z is: tensor(1.)\n",
            "Gradient of y is: tensor(5.)\n",
            "Gradient of x is: tensor(5.)\n"
          ],
          "name": "stdout"
        }
      ]
    },
    {
      "cell_type": "code",
      "metadata": {
        "id": "SyirOb9NtCuO",
        "colab_type": "code",
        "colab": {
          "base_uri": "https://localhost:8080/",
          "height": 69
        },
        "outputId": "10a1da52-0d96-4c9b-afe4-2b44b10190ae"
      },
      "source": [
        "## another practice\n",
        "# Initialize x, y and z to values 4, -3 and 5\n",
        "x = torch.tensor(4.,requires_grad=True)\n",
        "y = torch.tensor(-3.,requires_grad=True)\n",
        "z = torch.tensor(5.,requires_grad=True)\n",
        "\n",
        "# Set q to sum of x and y, set f to product of q with z\n",
        "q = x+y\n",
        "f = q*z\n",
        "\n",
        "# Compute the derivatives\n",
        "f.backward()\n",
        "\n",
        "# Print the gradients\n",
        "print(\"Gradient of x is: \" + str(x.grad))\n",
        "print(\"Gradient of y is: \" + str(y.grad))\n",
        "print(\"Gradient of z is: \" + str(z.grad))"
      ],
      "execution_count": 22,
      "outputs": [
        {
          "output_type": "stream",
          "text": [
            "Gradient of x is: tensor(5.)\n",
            "Gradient of y is: tensor(5.)\n",
            "Gradient of z is: tensor(1.)\n"
          ],
          "name": "stdout"
        }
      ]
    },
    {
      "cell_type": "code",
      "metadata": {
        "id": "i8SvHmyWtkzK",
        "colab_type": "code",
        "colab": {}
      },
      "source": [
        "### find this graphs gradient "
      ],
      "execution_count": 0,
      "outputs": []
    },
    {
      "cell_type": "markdown",
      "metadata": {
        "id": "H6r4ujcpvABo",
        "colab_type": "text"
      },
      "source": [
        "![alt text](https://raw.githubusercontent.com/tanviredu/DATACAMP_PYTORCH/master/graph2.PNG)"
      ]
    },
    {
      "cell_type": "code",
      "metadata": {
        "id": "himictuwvBqN",
        "colab_type": "code",
        "colab": {}
      },
      "source": [
        "import torch\n",
        "x = torch.rand(1000,1000,requires_grad=True)\n",
        "y = torch.rand(1000,1000,requires_grad=True)\n",
        "z = torch.rand(1000,1000,requires_grad=True)\n",
        "## multiply (matrix multiplication)\n",
        "q = torch.matmul(x,y)\n",
        "## now elementwise multiplication\n",
        "f = z*q\n",
        "## find the mean\n",
        "mean_f = torch.mean(f)\n",
        "mean_f.backward()"
      ],
      "execution_count": 0,
      "outputs": []
    },
    {
      "cell_type": "code",
      "metadata": {
        "id": "YcXvIdRgvrMT",
        "colab_type": "code",
        "colab": {}
      },
      "source": [
        "# weight_1 = torch.rand(784,200)\n",
        "# weight_2 = torch.rand(200, 10)\n",
        "\n",
        "# # Multiply input_layer with weight_1\n",
        "# hidden_1 = torch.matmul(input_layer, weight_1)\n",
        "\n",
        "# # Multiply hidden_1 with weight_2\n",
        "# output_layer = torch.matmul(hidden_1,weight_2)\n",
        "# print(output_layer)"
      ],
      "execution_count": 0,
      "outputs": []
    },
    {
      "cell_type": "markdown",
      "metadata": {
        "id": "2Ccr2UBdzbzD",
        "colab_type": "text"
      },
      "source": [
        "# Fully Connected Neural net![alt text](https://raw.githubusercontent.com/tanviredu/DATACAMP_PYTORCH/master/graph7.PNG)"
      ]
    },
    {
      "cell_type": "code",
      "metadata": {
        "id": "RTRekSlZzhC0",
        "colab_type": "code",
        "colab": {
          "base_uri": "https://localhost:8080/",
          "height": 35
        },
        "outputId": "86ee8c40-9e44-41fb-c4c4-87794b02d4c0"
      },
      "source": [
        "import torch\n",
        "input_layer = torch.rand(10)\n",
        "w1 = torch.rand(10,20)\n",
        "w2 = torch.rand(20,20)\n",
        "w3 = torch.rand(20,4)\n",
        "\n",
        "hidden_layer_1 = torch.matmul(input_layer,w1)\n",
        "hidden_layer_2 = torch.matmul(hidden_layer_1,w2)\n",
        "output_layer = torch.matmul(hidden_layer_2,w3)\n",
        "print(output_layer)\n"
      ],
      "execution_count": 26,
      "outputs": [
        {
          "output_type": "stream",
          "text": [
            "tensor([197.2695, 229.1521, 214.6731, 218.7889])\n"
          ],
          "name": "stdout"
        }
      ]
    },
    {
      "cell_type": "code",
      "metadata": {
        "id": "YTZnBQs40KSy",
        "colab_type": "code",
        "colab": {}
      },
      "source": [
        "### same neural network object oriented way\n",
        "import torch\n",
        "import torch.nn as nn\n",
        "\n",
        "class Net(nn.Module):\n",
        "  def __init__(self):\n",
        "    ## calling the base constructor\n",
        "    super(Net,self).__init__()\n",
        "    ## instantiate all two linear layers\n",
        "    ## input neurron and output neuron\n",
        "    self.fc1 = nn.Linear(784,200)\n",
        "    ## output neuron of the second will be the input of the first\n",
        "    self.fc2 = nn.Linear(200,10)\n",
        "\n",
        "  def forward(self,x):\n",
        "    x = self.fc1(x)\n",
        "    x = self.fc2(x)\n",
        "    return x\n",
        "    "
      ],
      "execution_count": 0,
      "outputs": []
    },
    {
      "cell_type": "code",
      "metadata": {
        "id": "7WTVJZ6p2tfI",
        "colab_type": "code",
        "colab": {}
      },
      "source": [
        "net = Net()"
      ],
      "execution_count": 0,
      "outputs": []
    },
    {
      "cell_type": "code",
      "metadata": {
        "id": "MTpxleEb2vus",
        "colab_type": "code",
        "colab": {
          "base_uri": "https://localhost:8080/",
          "height": 87
        },
        "outputId": "6b1419db-1fbf-4b88-8a80-97067f48e03c"
      },
      "source": [
        "net"
      ],
      "execution_count": 29,
      "outputs": [
        {
          "output_type": "execute_result",
          "data": {
            "text/plain": [
              "Net(\n",
              "  (fc1): Linear(in_features=784, out_features=200, bias=True)\n",
              "  (fc2): Linear(in_features=200, out_features=10, bias=True)\n",
              ")"
            ]
          },
          "metadata": {
            "tags": []
          },
          "execution_count": 29
        }
      ]
    },
    {
      "cell_type": "markdown",
      "metadata": {
        "id": "PCiYQATO3NKI",
        "colab_type": "text"
      },
      "source": [
        "## **Activation Function**\n",
        "activation function are non linear functions which ae inserted in to the each neural network that make the neural network non linear and allow then to deal with the non linear dataset. the most popular activation function is **rectified linear or Relu**"
      ]
    },
    {
      "cell_type": "code",
      "metadata": {
        "id": "ZAjwsPzi4cd3",
        "colab_type": "code",
        "colab": {
          "base_uri": "https://localhost:8080/",
          "height": 35
        },
        "outputId": "9e8b0bdb-9dee-4cfc-8434-4b9ba4935700"
      },
      "source": [
        "## simple implementation of relu\n",
        "import torch.nn as nn\n",
        "relu = nn.ReLU()\n",
        "tensor_1 = torch.tensor([2.,-4.])\n",
        "print(relu(tensor_1))"
      ],
      "execution_count": 30,
      "outputs": [
        {
          "output_type": "stream",
          "text": [
            "tensor([2., 0.])\n"
          ],
          "name": "stdout"
        }
      ]
    },
    {
      "cell_type": "markdown",
      "metadata": {
        "id": "Fm0EryiG4zY8",
        "colab_type": "text"
      },
      "source": [
        "why after applying relu the -4 become zero because relu activation function formula is\n",
        "**ReLu(x) = max(0,x)** if the value greater then 0 then return the value other wise return 0"
      ]
    },
    {
      "cell_type": "code",
      "metadata": {
        "id": "8tiYAWrr5K_9",
        "colab_type": "code",
        "colab": {}
      },
      "source": [
        "# # Calculate the first and second hidden layer\n",
        "# hidden_1 = torch.matmul(input_layer, weight_1)\n",
        "# hidden_2 = torch.matmul(hidden_1, weight_2)\n",
        "\n",
        "# # Calculate the output\n",
        "# print(torch.matmul(hidden_2, weight_3))\n",
        "\n",
        "# # Calculate weight_composed_1 and weight\n",
        "# weight_composed_1 = torch.matmul(weight_1, weight_2)\n",
        "# weight = torch.matmul(weight_composed_1, weight_3)\n",
        "\n",
        "# # Multiply input_layer with weight\n",
        "# print(torch.matmul(input_layer,weight))"
      ],
      "execution_count": 0,
      "outputs": []
    },
    {
      "cell_type": "code",
      "metadata": {
        "id": "HP1eeR8R6ZUt",
        "colab_type": "code",
        "colab": {}
      },
      "source": [
        "# # Apply non-linearity on hidden_1 and hidden_2\n",
        "# hidden_1_activated = relu(torch.matmul(input_layer, weight_1))\n",
        "# hidden_2_activated = relu(torch.matmul(hidden_1_activated, weight_2))\n",
        "# print(torch.matmul(hidden_2_activated, weight_3))\n",
        "\n",
        "# # Apply non-linearity in the product of first two weights. \n",
        "# weight_composed_1_activated = relu(torch.matmul(weight_1, weight_2))\n",
        "\n",
        "# # Multiply `weight_composed_1_activated` with `weight_3\n",
        "# weight = torch.matmul(weight_composed_1_activated, weight_3)\n",
        "# # Multiply input_layer with weight\n",
        "# print(torch.matmul(input_layer, weight))\n"
      ],
      "execution_count": 0,
      "outputs": []
    },
    {
      "cell_type": "markdown",
      "metadata": {
        "id": "bTE6ctca_o-J",
        "colab_type": "text"
      },
      "source": [
        "![alt text](https://raw.githubusercontent.com/tanviredu/DATACAMP_PYTORCH/master/graph8.PNG)"
      ]
    },
    {
      "cell_type": "code",
      "metadata": {
        "id": "Dq_EBSBK_rKO",
        "colab_type": "code",
        "colab": {
          "base_uri": "https://localhost:8080/",
          "height": 35
        },
        "outputId": "875ecaa5-0870-46fa-da6d-c5034c512c34"
      },
      "source": [
        "input_layer = torch.tensor([[ 0.0401, -0.9005,  0.0397, -0.0876]])\n",
        "# Instantiate ReLU activation function as relu\n",
        "relu = nn.ReLU()\n",
        "\n",
        "# Initialize weight_1 and weight_2 with random numbers\n",
        "weight_1 = torch.rand(4, 6)\n",
        "weight_2 = torch.rand(6, 2)\n",
        "\n",
        "# Multiply input_layer with weight_1\n",
        "hidden_1 = torch.matmul(input_layer, weight_1)\n",
        "\n",
        "# Apply ReLU activation function over hidden_1 and multiply with weight_2\n",
        "hidden_1_activated = relu(hidden_1)\n",
        "print(torch.matmul(hidden_1_activated, weight_2))"
      ],
      "execution_count": 32,
      "outputs": [
        {
          "output_type": "stream",
          "text": [
            "tensor([[0., 0.]])\n"
          ],
          "name": "stdout"
        }
      ]
    },
    {
      "cell_type": "code",
      "metadata": {
        "id": "wKWFLyJkA40a",
        "colab_type": "code",
        "colab": {}
      },
      "source": [
        ""
      ],
      "execution_count": 0,
      "outputs": []
    },
    {
      "cell_type": "markdown",
      "metadata": {
        "id": "4jCjfABOBmNZ",
        "colab_type": "text"
      },
      "source": [
        "# **NEURAL NETWORK TRAINING PROCESS**\n",
        "*   initialize neural network with random weight \n",
        "*   Do a forward pass\n",
        "*   Calculate Loss Function\n",
        "*   Calculate The Gradients\n",
        "*   Change the weight based on the Gradients\n",
        "*   for regression the loss mse\n",
        "*   for classification softmax crossentropy"
      ]
    },
    {
      "cell_type": "code",
      "metadata": {
        "id": "vyPHc8yuCpMl",
        "colab_type": "code",
        "colab": {}
      },
      "source": [
        "## an example of the cross Cross Entropy Loss "
      ],
      "execution_count": 0,
      "outputs": []
    },
    {
      "cell_type": "code",
      "metadata": {
        "id": "4JIYNg1FDCpx",
        "colab_type": "code",
        "colab": {
          "base_uri": "https://localhost:8080/",
          "height": 35
        },
        "outputId": "a8e096e6-7871-49a2-bb13-7b6ca2e4b320"
      },
      "source": [
        "\n",
        "logits = torch.tensor([[3.2,5.1,-1.7]])\n",
        "ground_truth = torch.tensor([0])\n",
        "criterion = nn.CrossEntropyLoss()\n",
        "loss = criterion(logits,ground_truth)\n",
        "print(loss)"
      ],
      "execution_count": 34,
      "outputs": [
        {
          "output_type": "stream",
          "text": [
            "tensor(2.0404)\n"
          ],
          "name": "stdout"
        }
      ]
    },
    {
      "cell_type": "code",
      "metadata": {
        "id": "66o4bJTND1BE",
        "colab_type": "code",
        "colab": {
          "base_uri": "https://localhost:8080/",
          "height": 35
        },
        "outputId": "c14e4c51-5de2-4f78-aab5-e18b9a189b63"
      },
      "source": [
        "logits = torch.tensor([[-1.2,.12,4.8]])\n",
        "ground_truth = torch.tensor([2])\n",
        "criterion = nn.CrossEntropyLoss()\n",
        "loss = criterion(logits,ground_truth)\n",
        "print(loss)"
      ],
      "execution_count": 35,
      "outputs": [
        {
          "output_type": "stream",
          "text": [
            "tensor(0.0117)\n"
          ],
          "name": "stdout"
        }
      ]
    },
    {
      "cell_type": "code",
      "metadata": {
        "id": "3rM0vRCeEdkm",
        "colab_type": "code",
        "colab": {
          "base_uri": "https://localhost:8080/",
          "height": 35
        },
        "outputId": "d65f08e4-c22e-49d9-ca04-b07ab5260444"
      },
      "source": [
        "# Import torch and torch.nn\n",
        "import torch \n",
        "import torch.nn as nn\n",
        "\n",
        "# Initialize logits and ground truth\n",
        "logits = torch.rand(1,1000)\n",
        "ground_truth = torch.tensor([111])\n",
        "criterion = nn.CrossEntropyLoss()\n",
        "loss = criterion(logits,ground_truth)\n",
        "print(loss)"
      ],
      "execution_count": 36,
      "outputs": [
        {
          "output_type": "stream",
          "text": [
            "tensor(6.6624)\n"
          ],
          "name": "stdout"
        }
      ]
    },
    {
      "cell_type": "markdown",
      "metadata": {
        "id": "Ycq2WqsvGmCp",
        "colab_type": "text"
      },
      "source": [
        "## **How To Import Data set and prepare it**"
      ]
    },
    {
      "cell_type": "code",
      "metadata": {
        "id": "KO9R-CgwGsO2",
        "colab_type": "code",
        "colab": {}
      },
      "source": [
        "import torch\n",
        "import torchvision\n",
        "import torch.utils.data\n",
        "import torchvision.transforms as transforms"
      ],
      "execution_count": 0,
      "outputs": []
    },
    {
      "cell_type": "code",
      "metadata": {
        "id": "GGK9oiQ_HA0r",
        "colab_type": "code",
        "colab": {}
      },
      "source": [
        "transform = transforms.Compose([transforms.ToTensor(),transforms.Normalize((.1307),(.3081))])"
      ],
      "execution_count": 0,
      "outputs": []
    },
    {
      "cell_type": "code",
      "metadata": {
        "id": "omVI6LJnHKAm",
        "colab_type": "code",
        "colab": {
          "base_uri": "https://localhost:8080/",
          "height": 356,
          "referenced_widgets": [
            "f2fab16871384b03b8d42232081ecdab",
            "253c53f41567430493fb0bccf3a5c4a2",
            "306c27eadb5a46d3b02233d6cf8520f3",
            "b739247b6e3e42d88bec4cd06ace1169",
            "79e5178417ec4d8e85cbe86ec067942f",
            "771982465e504b5e96a23a0660302e1e",
            "1830c2ab457e4d448d9d283dd7808dd8",
            "2804c857ada74c21ab019a95a4862001",
            "a054878c3af54a6383384bdffa81efe7",
            "1f9071d744c94a0299a35b95d66beb10",
            "66962fc5d33744ca9c46a827f79f1425",
            "05d81aea284e461093ad67d76af91b5d",
            "f624e7cf709c4a8dbc6d42661e8438b8",
            "2069eac9518f4f6b856c27370be4780b",
            "020a1317f77c42f6af40c5ee4a6e7e4a",
            "4600568f17354a659bdd2fc67cc11ef0",
            "fd3234ce4fb6443994b36e40a4fce64d",
            "951e9bd17ad14a9a93fcf12247daf9de",
            "2cb4997a311846d7b14da000a8f48737",
            "cdc88cc91bbe4c3397e3a3bef4466e95",
            "1e25e4155a314d2abadf9725deba06aa",
            "09387e37aba644dfb4541f2094cf1942",
            "9c75bcaabfa74836b00f000442e86c06",
            "41b27ff0d89d43c18c8c6adb47fb3813",
            "11f2826e868547838e340e46682af425",
            "b9577359512345d3a443f8c7529d678b",
            "3111f02b0f2f4c1fab9da0c716ce3725",
            "f2bc428c97c142df8d45ab0f01f39ec0",
            "ca45f5f045cd4f3d8c0904ccdaf3b0e7",
            "402a088c75bc461b852e816e5cc4c272",
            "bc5e915ea4f4460c9b5251fdd389cb81",
            "49d19419fe194b7cb912f60eb6f078a6"
          ]
        },
        "outputId": "8ca109b4-4d43-4029-94cc-c5d5e60058d0"
      },
      "source": [
        "## download data\n",
        "trainset = torchvision.datasets.MNIST(root=\"./data\",train=True,download=True,transform=transform)"
      ],
      "execution_count": 39,
      "outputs": [
        {
          "output_type": "stream",
          "text": [
            "Downloading http://yann.lecun.com/exdb/mnist/train-images-idx3-ubyte.gz to ./data/MNIST/raw/train-images-idx3-ubyte.gz\n"
          ],
          "name": "stdout"
        },
        {
          "output_type": "display_data",
          "data": {
            "application/vnd.jupyter.widget-view+json": {
              "model_id": "f2fab16871384b03b8d42232081ecdab",
              "version_minor": 0,
              "version_major": 2
            },
            "text/plain": [
              "HBox(children=(FloatProgress(value=1.0, bar_style='info', max=1.0), HTML(value='')))"
            ]
          },
          "metadata": {
            "tags": []
          }
        },
        {
          "output_type": "stream",
          "text": [
            "Extracting ./data/MNIST/raw/train-images-idx3-ubyte.gz to ./data/MNIST/raw\n",
            "Downloading http://yann.lecun.com/exdb/mnist/train-labels-idx1-ubyte.gz to ./data/MNIST/raw/train-labels-idx1-ubyte.gz\n"
          ],
          "name": "stdout"
        },
        {
          "output_type": "display_data",
          "data": {
            "application/vnd.jupyter.widget-view+json": {
              "model_id": "a054878c3af54a6383384bdffa81efe7",
              "version_minor": 0,
              "version_major": 2
            },
            "text/plain": [
              "HBox(children=(FloatProgress(value=1.0, bar_style='info', max=1.0), HTML(value='')))"
            ]
          },
          "metadata": {
            "tags": []
          }
        },
        {
          "output_type": "stream",
          "text": [
            "Extracting ./data/MNIST/raw/train-labels-idx1-ubyte.gz to ./data/MNIST/raw\n",
            "Downloading http://yann.lecun.com/exdb/mnist/t10k-images-idx3-ubyte.gz to ./data/MNIST/raw/t10k-images-idx3-ubyte.gz\n"
          ],
          "name": "stdout"
        },
        {
          "output_type": "display_data",
          "data": {
            "application/vnd.jupyter.widget-view+json": {
              "model_id": "fd3234ce4fb6443994b36e40a4fce64d",
              "version_minor": 0,
              "version_major": 2
            },
            "text/plain": [
              "HBox(children=(FloatProgress(value=1.0, bar_style='info', max=1.0), HTML(value='')))"
            ]
          },
          "metadata": {
            "tags": []
          }
        },
        {
          "output_type": "stream",
          "text": [
            "Extracting ./data/MNIST/raw/t10k-images-idx3-ubyte.gz to ./data/MNIST/raw\n",
            "Downloading http://yann.lecun.com/exdb/mnist/t10k-labels-idx1-ubyte.gz to ./data/MNIST/raw/t10k-labels-idx1-ubyte.gz\n"
          ],
          "name": "stdout"
        },
        {
          "output_type": "display_data",
          "data": {
            "application/vnd.jupyter.widget-view+json": {
              "model_id": "11f2826e868547838e340e46682af425",
              "version_minor": 0,
              "version_major": 2
            },
            "text/plain": [
              "HBox(children=(FloatProgress(value=1.0, bar_style='info', max=1.0), HTML(value='')))"
            ]
          },
          "metadata": {
            "tags": []
          }
        },
        {
          "output_type": "stream",
          "text": [
            "Extracting ./data/MNIST/raw/t10k-labels-idx1-ubyte.gz to ./data/MNIST/raw\n",
            "Processing...\n",
            "Done!\n"
          ],
          "name": "stdout"
        },
        {
          "output_type": "stream",
          "text": [
            "/pytorch/torch/csrc/utils/tensor_numpy.cpp:141: UserWarning: The given NumPy array is not writeable, and PyTorch does not support non-writeable tensors. This means you can write to the underlying (supposedly non-writeable) NumPy array using the tensor. You may want to copy the array to protect its data or make it writeable before converting it to a tensor. This type of warning will be suppressed for the rest of this program.\n"
          ],
          "name": "stderr"
        }
      ]
    },
    {
      "cell_type": "code",
      "metadata": {
        "id": "Bsobs8H9HeGc",
        "colab_type": "code",
        "colab": {}
      },
      "source": [
        "## download data\n",
        "testset = torchvision.datasets.MNIST(root=\"./data\",train=False,download=True,transform=transform)"
      ],
      "execution_count": 0,
      "outputs": []
    },
    {
      "cell_type": "code",
      "metadata": {
        "id": "-lYAgM4nHqHr",
        "colab_type": "code",
        "colab": {}
      },
      "source": [
        "## now we make data loader so that we can feed it with batchs\n",
        "trainloader = torch.utils.data.DataLoader(trainset,batch_size=32,shuffle=True,num_workers=0)\n",
        "testloader = torch.utils.data.DataLoader(testset,batch_size=32,shuffle=False,num_workers=0)"
      ],
      "execution_count": 0,
      "outputs": []
    },
    {
      "cell_type": "code",
      "metadata": {
        "id": "X8AkLHmJIAzZ",
        "colab_type": "code",
        "colab": {
          "base_uri": "https://localhost:8080/",
          "height": 141
        },
        "outputId": "c3b0cf5d-c2f1-4f53-92ba-c6c0454b72be"
      },
      "source": [
        "print(trainloader.dataset.train_data.shape)\n",
        "print(trainloader.dataset.test_data.shape)"
      ],
      "execution_count": 42,
      "outputs": [
        {
          "output_type": "stream",
          "text": [
            "torch.Size([60000, 28, 28])\n",
            "torch.Size([60000, 28, 28])\n"
          ],
          "name": "stdout"
        },
        {
          "output_type": "stream",
          "text": [
            "/usr/local/lib/python3.6/dist-packages/torchvision/datasets/mnist.py:55: UserWarning: train_data has been renamed data\n",
            "  warnings.warn(\"train_data has been renamed data\")\n",
            "/usr/local/lib/python3.6/dist-packages/torchvision/datasets/mnist.py:60: UserWarning: test_data has been renamed data\n",
            "  warnings.warn(\"test_data has been renamed data\")\n"
          ],
          "name": "stderr"
        }
      ]
    },
    {
      "cell_type": "code",
      "metadata": {
        "id": "B2cv50weIRzP",
        "colab_type": "code",
        "colab": {
          "base_uri": "https://localhost:8080/",
          "height": 35
        },
        "outputId": "86ba8dd0-eac3-4d83-cc39-43a75af51c24"
      },
      "source": [
        "# Compute the size of the minibatch for training set and testing set\n",
        "trainset_batchsize = trainloader.batch_size\n",
        "testset_batchsize = testloader.batch_size\n",
        "\n",
        "# Print sizes of the minibatch\n",
        "print(trainset_batchsize,testset_batchsize)"
      ],
      "execution_count": 43,
      "outputs": [
        {
          "output_type": "stream",
          "text": [
            "32 32\n"
          ],
          "name": "stdout"
        }
      ]
    },
    {
      "cell_type": "markdown",
      "metadata": {
        "id": "W0VEAUyxLXPS",
        "colab_type": "text"
      },
      "source": [
        "## **Train The MNIST MODEL** "
      ]
    },
    {
      "cell_type": "code",
      "metadata": {
        "id": "4VvAZ2fDLeIJ",
        "colab_type": "code",
        "colab": {}
      },
      "source": [
        "hight = 28\n",
        "width = 28\n",
        "chanel = 1 ## grayscale image for rgb it will be 3\n",
        "image_shape = 28*28*1\n",
        "hidden_neuron = 500\n",
        "output_neuron = 10"
      ],
      "execution_count": 0,
      "outputs": []
    },
    {
      "cell_type": "code",
      "metadata": {
        "id": "Pof-tmKSL4gB",
        "colab_type": "code",
        "colab": {}
      },
      "source": [
        "import torch \n",
        "import torch.nn\n",
        "import torch.nn.functional as F\n",
        "import torch.optim as optim"
      ],
      "execution_count": 0,
      "outputs": []
    },
    {
      "cell_type": "code",
      "metadata": {
        "id": "0HEhb59NL--7",
        "colab_type": "code",
        "colab": {
          "base_uri": "https://localhost:8080/",
          "height": 52
        },
        "outputId": "31b7ab0d-46f7-4f9b-a209-5c33500614af"
      },
      "source": [
        "### make the class\n",
        "class Net(nn.Module):\n",
        "  def __init__(self):\n",
        "    super(Net,self).__init__()\n",
        "    self.fc1 = nn.Linear(image_shape,hidden_neuron)\n",
        "    self.fc2 = nn.Linear(hidden_neuron,output_neuron)\n",
        "  def forward(self,x):\n",
        "    x = F.relu(self.fc1(x))\n",
        "    ## in the final layer there is no relu\n",
        "    x = self.fc2(x)\n",
        "    return x"
      ],
      "execution_count": 46,
      "outputs": [
        {
          "output_type": "stream",
          "text": [
            "\n",
            "\n"
          ],
          "name": "stdout"
        }
      ]
    },
    {
      "cell_type": "code",
      "metadata": {
        "id": "A4pM9A1lMuLm",
        "colab_type": "code",
        "colab": {}
      },
      "source": [
        "net = Net()"
      ],
      "execution_count": 0,
      "outputs": []
    },
    {
      "cell_type": "code",
      "metadata": {
        "id": "mWgFtgOxM2fF",
        "colab_type": "code",
        "colab": {}
      },
      "source": [
        "criterion = nn.CrossEntropyLoss()\n",
        "optimizer = optim.Adam(net.parameters(),lr=3e-4)"
      ],
      "execution_count": 0,
      "outputs": []
    },
    {
      "cell_type": "code",
      "metadata": {
        "id": "x9Eb39HeNfgj",
        "colab_type": "code",
        "outputId": "dd6f858c-e346-4037-ea74-ae537015ea63",
        "colab": {
          "base_uri": "https://localhost:8080/",
          "height": 537
        }
      },
      "source": [
        "e = []  ## store the apochs\n",
        "l =[] ## store the loss\n",
        "\n",
        "for epoch in range(30):\n",
        "  ## for 30 iteration\n",
        "  ## we loop through the data\n",
        "  for data in trainloader:\n",
        "    inputs,labels = data  ## list unpacking\n",
        "    ## flat the array inti 1D with reshape\n",
        "    inputs = inputs.view(-1,28*28*1)\n",
        "\n",
        "    ## zero gradient so it wont get ata from preious iteration\n",
        "    optimizer.zero_grad()\n",
        "    ## make a forward pass\n",
        "    outputs = net(inputs)\n",
        "    loss = criterion(outputs,labels)\n",
        "    loss.backward() ## back propagation\n",
        "    optimizer.step() ## replace the weight\n",
        "  print (\"EPOCHS: {} LOSS {} \".format(epoch,loss))\n",
        "  e.append(epoch)\n",
        "  l.append(loss)\n"
      ],
      "execution_count": 49,
      "outputs": [
        {
          "output_type": "stream",
          "text": [
            "EPOCHS: 0 LOSS 0.14525003731250763 \n",
            "EPOCHS: 1 LOSS 0.11525033414363861 \n",
            "EPOCHS: 2 LOSS 0.053422559052705765 \n",
            "EPOCHS: 3 LOSS 0.040494583547115326 \n",
            "EPOCHS: 4 LOSS 0.08142305165529251 \n",
            "EPOCHS: 5 LOSS 0.07536008954048157 \n",
            "EPOCHS: 6 LOSS 0.002124762162566185 \n",
            "EPOCHS: 7 LOSS 0.019670365378260612 \n",
            "EPOCHS: 8 LOSS 0.06100104749202728 \n",
            "EPOCHS: 9 LOSS 0.00037654992775060236 \n",
            "EPOCHS: 10 LOSS 0.0004550415033008903 \n",
            "EPOCHS: 11 LOSS 0.01957712322473526 \n",
            "EPOCHS: 12 LOSS 0.0008455569623038173 \n",
            "EPOCHS: 13 LOSS 0.0015738296788185835 \n",
            "EPOCHS: 14 LOSS 0.00025934711447916925 \n",
            "EPOCHS: 15 LOSS 0.01361638493835926 \n",
            "EPOCHS: 16 LOSS 0.0003474022669252008 \n",
            "EPOCHS: 17 LOSS 0.0008780943462625146 \n",
            "EPOCHS: 18 LOSS 0.0007990860613062978 \n",
            "EPOCHS: 19 LOSS 5.520019476534799e-05 \n",
            "EPOCHS: 20 LOSS 0.0004325566696934402 \n",
            "EPOCHS: 21 LOSS 0.0003237893688492477 \n",
            "EPOCHS: 22 LOSS 1.8299975636182353e-05 \n",
            "EPOCHS: 23 LOSS 9.156441228697076e-05 \n",
            "EPOCHS: 24 LOSS 0.0003855380055028945 \n",
            "EPOCHS: 25 LOSS 0.0002793388848658651 \n",
            "EPOCHS: 26 LOSS 0.00035705548361875117 \n",
            "EPOCHS: 27 LOSS 1.3033327377343085e-05 \n",
            "EPOCHS: 28 LOSS 5.0457318138796836e-05 \n",
            "EPOCHS: 29 LOSS 0.00016448466340079904 \n"
          ],
          "name": "stdout"
        }
      ]
    },
    {
      "cell_type": "code",
      "metadata": {
        "id": "Tu91XVHjOb2Y",
        "colab_type": "code",
        "colab": {
          "base_uri": "https://localhost:8080/",
          "height": 295
        },
        "outputId": "8c094ee3-86e0-4813-cde7-9f42082896ce"
      },
      "source": [
        "import matplotlib.pyplot as plt\n",
        "plt.plot(e, l, 'g', label='Training loss')\n",
        "#plt.plot(epochs, loss_val, 'b', label='validation loss')\n",
        "plt.title('Training  loss')\n",
        "plt.xlabel('Epochs')\n",
        "plt.ylabel('Loss')\n",
        "plt.legend()\n",
        "plt.show()"
      ],
      "execution_count": 51,
      "outputs": [
        {
          "output_type": "display_data",
          "data": {
            "image/png": "[encoded data removed]",
            "text/plain": [
              "<Figure size 432x288 with 1 Axes>"
            ]
          },
          "metadata": {
            "tags": [],
            "needs_background": "light"
          }
        }
      ]
    },
    {
      "cell_type": "code",
      "metadata": {
        "id": "YE9o2xORRuJm",
        "colab_type": "code",
        "colab": {
          "base_uri": "https://localhost:8080/",
          "height": 35
        },
        "outputId": "4507907b-9c2f-4367-aae6-3c425d6f2813"
      },
      "source": [
        "import numpy as np\n",
        "### making prediction\n",
        "correct_prediction = 0\n",
        "predictions = []\n",
        "total_case = 0\n",
        "net.eval() ### before prediction you need to set the evaluation mode\n",
        "for data in testloader:\n",
        "  ### list unpacking\n",
        "  inputs,labels = data\n",
        "  inputs = inputs.view(-1,28*28*1)\n",
        "  outputs = net(inputs)\n",
        "  ## show the out put of the each batch\n",
        "  predicted = torch.max(outputs.data,1)[1]\n",
        "  ## append in a prediction list\n",
        "  predictions.append(outputs)\n",
        "  total_case+=labels.size(0)  ## how you how many labels are there or how many test case\n",
        "  correct_prediction += (predicted == labels).sum().item()\n",
        "print(\"the testing set accuracy of the network :  {} %\".format(100 * correct_prediction/total_case))"
      ],
      "execution_count": 73,
      "outputs": [
        {
          "output_type": "stream",
          "text": [
            "the testing set accuracy of the network :  97.97 %\n"
          ],
          "name": "stdout"
        }
      ]
    },
    {
      "cell_type": "code",
      "metadata": {
        "id": "mb6MHlLgT23D",
        "colab_type": "code",
        "colab": {}
      },
      "source": [
        ""
      ],
      "execution_count": 0,
      "outputs": []
    },
    {
      "cell_type": "markdown",
      "metadata": {
        "id": "TsULtGpYe0NQ",
        "colab_type": "text"
      },
      "source": [
        "# **Convolutional Nural Network**\n",
        "the convolution process is preety much straight forward. when an image is given and there will be filter smaller than the image and the filter is actually the weight . and you get good feature by multiplying the image with the filter . the filter will splide through the image and by multiplugin with the image it will create a something called activation map also called the feature map a convolustional network is a collection of feature map. the goal of the CNN is learn for this activation map and detext the feature"
      ]
    },
    {
      "cell_type": "markdown",
      "metadata": {
        "id": "p7-SVHtamP7D",
        "colab_type": "text"
      },
      "source": [
        "![alt text](https://raw.githubusercontent.com/tanviredu/DATACAMP_PYTORCH/master/graph9.PNG)"
      ]
    },
    {
      "cell_type": "code",
      "metadata": {
        "id": "iNDcOT_Ee52d",
        "colab_type": "code",
        "colab": {}
      },
      "source": [
        "import torch\n",
        "import torch.nn.functional as F\n",
        "## make ramdom 28x28 image for classification\n",
        "image_quantity = 10\n",
        "chanel = 1  ## grayscale image\n",
        "height = 28\n",
        "weight = 28\n",
        "\n",
        "image = torch.rand(image_quantity,chanel,height,weight)"
      ],
      "execution_count": 0,
      "outputs": []
    },
    {
      "cell_type": "code",
      "metadata": {
        "id": "gZsYglyxfYXE",
        "colab_type": "code",
        "colab": {
          "base_uri": "https://localhost:8080/",
          "height": 35
        },
        "outputId": "a2e2ba08-e42d-4289-cb35-c4d2b461f32d"
      },
      "source": [
        "conv_filters = torch.nn.Conv2d(in_channels=1, out_channels=6, kernel_size=3, stride=1, padding=1)\n",
        "\n",
        "# Convolve the image with the filters \n",
        "output_feature = conv_filters(image)\n",
        "print(output_feature.shape)"
      ],
      "execution_count": 81,
      "outputs": [
        {
          "output_type": "stream",
          "text": [
            "torch.Size([10, 6, 28, 28])\n"
          ],
          "name": "stdout"
        }
      ]
    },
    {
      "cell_type": "code",
      "metadata": {
        "id": "2aRDxBRmfcGa",
        "colab_type": "code",
        "colab": {}
      },
      "source": [
        ""
      ],
      "execution_count": 0,
      "outputs": []
    },
    {
      "cell_type": "markdown",
      "metadata": {
        "id": "K3ARgmRHjD3H",
        "colab_type": "text"
      },
      "source": [
        "## **MAX POOLING AND AVG POOLING**\n",
        "Convolutional layer is the main building block of the CNN. there is another layer is CNN is called Pooling layer.pooling layer job is purely the feature selection.and its sole job is to extract the dominent feature of the image\n",
        "and it also lower the resolution of the image and make the computation easy.\n",
        "\n",
        "**two types of popular poolign layer**\n",
        "1.   Max pooling\n",
        "2.   AVG Pooling\n",
        "\n",
        "\n"
      ]
    },
    {
      "cell_type": "code",
      "metadata": {
        "id": "uaCVtBRJopzi",
        "colab_type": "code",
        "colab": {}
      },
      "source": [
        "## example of adding max pooling and avg pooling in image\n",
        "import torch.nn\n",
        "im = torch.Tensor([[[[3,1,3,5],[6,0,7,9],[3,2,1,4],[0,2,4,3]]]])"
      ],
      "execution_count": 0,
      "outputs": []
    },
    {
      "cell_type": "code",
      "metadata": {
        "id": "DUNwrdcvpbCp",
        "colab_type": "code",
        "colab": {
          "base_uri": "https://localhost:8080/",
          "height": 52
        },
        "outputId": "0b812a94-ff15-405b-8cc0-fa2bb43d6cf7"
      },
      "source": [
        "max_pooling = torch.nn.MaxPool2d(2)\n",
        "output_feature = max_pooling(im)\n",
        "print(output_feature)"
      ],
      "execution_count": 85,
      "outputs": [
        {
          "output_type": "stream",
          "text": [
            "tensor([[[[6., 9.],\n",
            "          [3., 4.]]]])\n"
          ],
          "name": "stdout"
        }
      ]
    },
    {
      "cell_type": "code",
      "metadata": {
        "id": "vfyqQdVHpckI",
        "colab_type": "code",
        "colab": {
          "base_uri": "https://localhost:8080/",
          "height": 52
        },
        "outputId": "5ce4423e-3e52-48a0-d6f8-69bb9d86dd37"
      },
      "source": [
        "avg_pooling = torch.nn.AvgPool2d(2)\n",
        "output_feature = avg_pooling(im)\n",
        "print(output_feature)"
      ],
      "execution_count": 86,
      "outputs": [
        {
          "output_type": "stream",
          "text": [
            "tensor([[[[2.5000, 6.0000],\n",
            "          [1.7500, 3.0000]]]])\n"
          ],
          "name": "stdout"
        }
      ]
    },
    {
      "cell_type": "markdown",
      "metadata": {
        "id": "34ITb7WKtqBv",
        "colab_type": "text"
      },
      "source": [
        "## **building a Complete Neural network** "
      ]
    },
    {
      "cell_type": "code",
      "metadata": {
        "id": "41TZ8U4HtwYf",
        "colab_type": "code",
        "colab": {}
      },
      "source": [
        "class ConvolutionalNet(nn.Module):\n",
        "\n",
        "  def __init__(self):\n",
        "    super(ConvolutionalNet,self).__init__()\n",
        "    ## remember the in_channels na dout channels are random\n",
        "    ## this properties will be initialized when the class is initialized\n",
        "    self.conv1 = nn.Conv2d(in_channels=1,out_channels=5,kernel_size=3,padding=1)\n",
        "    self.conv2 = nn.Conv2d(in_channels=5,out_channels=10,kernel_size=3,padding=1)\n",
        "    self.relu = nn.ReLU()\n",
        "    # instantiate the mx pooling layer\n",
        "    self.pool = nn.MaxPool2d(2,2)\n",
        "    ## so the final size will be 28/2*2 (2 by 2 pooling) = 7\n",
        "    self.fc = nn.Linear(7*7*10,10)\n",
        "  \n",
        "  ## apply the forward layer\n",
        "  def forward(self,x):\n",
        "    x = self.relu(self.conv1(x))\n",
        "    x = self.pool(x)\n",
        "    x = self.relu(self.conv2(x))\n",
        "    x = self.pool(x)\n",
        "    x = x.view(-1,7*7*10)\n",
        "    return self.fc(x)\n"
      ],
      "execution_count": 0,
      "outputs": []
    },
    {
      "cell_type": "code",
      "metadata": {
        "id": "nKlPbA1py6v3",
        "colab_type": "code",
        "colab": {}
      },
      "source": [
        "net = ConvolutionalNet()"
      ],
      "execution_count": 0,
      "outputs": []
    },
    {
      "cell_type": "code",
      "metadata": {
        "id": "kd_BHdOEzK7k",
        "colab_type": "code",
        "colab": {}
      },
      "source": [
        "criterion = nn.CrossEntropyLoss()\n",
        "optimizer = optim.Adam(net.parameters(),lr=3e-4)"
      ],
      "execution_count": 0,
      "outputs": []
    },
    {
      "cell_type": "code",
      "metadata": {
        "id": "1DRUEZibzXRn",
        "colab_type": "code",
        "colab": {
          "base_uri": "https://localhost:8080/",
          "height": 537
        },
        "outputId": "dc0c0845-eeaf-4d34-8d19-c784afd1e56c"
      },
      "source": [
        "e = []  ## store the apochs\n",
        "l =[] ## store the loss\n",
        "\n",
        "for epoch in range(30):\n",
        "  ## for 30 iteration\n",
        "  ## we loop through the data\n",
        "  for data in trainloader:\n",
        "    inputs,labels = data  ## list unpacking\n",
        "    ## you dont need to flat it we are not deefing it to the FC layer directly\n",
        "\n",
        "    ## zero gradient so it wont get ata from preious iteration\n",
        "    optimizer.zero_grad()\n",
        "    ## make a forward pass\n",
        "    outputs = net(inputs)\n",
        "    loss = criterion(outputs,labels)\n",
        "    loss.backward() ## back propagation\n",
        "    optimizer.step() ## replace the weight\n",
        "  print (\"EPOCHS: {} LOSS {} \".format(epoch,loss))\n",
        "  e.append(epoch)\n",
        "  l.append(loss)\n"
      ],
      "execution_count": 95,
      "outputs": [
        {
          "output_type": "stream",
          "text": [
            "EPOCHS: 0 LOSS 0.11346995085477829 \n",
            "EPOCHS: 1 LOSS 0.08955059945583344 \n",
            "EPOCHS: 2 LOSS 0.1837131679058075 \n",
            "EPOCHS: 3 LOSS 0.11766890436410904 \n",
            "EPOCHS: 4 LOSS 0.02877567522227764 \n",
            "EPOCHS: 5 LOSS 0.00936624500900507 \n",
            "EPOCHS: 6 LOSS 0.035639822483062744 \n",
            "EPOCHS: 7 LOSS 0.01246686652302742 \n",
            "EPOCHS: 8 LOSS 0.0421983003616333 \n",
            "EPOCHS: 9 LOSS 0.006982215214520693 \n",
            "EPOCHS: 10 LOSS 0.018353085964918137 \n",
            "EPOCHS: 11 LOSS 0.0823914036154747 \n",
            "EPOCHS: 12 LOSS 0.2021683156490326 \n",
            "EPOCHS: 13 LOSS 0.010757913812994957 \n",
            "EPOCHS: 14 LOSS 0.006603620480746031 \n",
            "EPOCHS: 15 LOSS 0.04601670056581497 \n",
            "EPOCHS: 16 LOSS 0.06525331735610962 \n",
            "EPOCHS: 17 LOSS 0.05862471088767052 \n",
            "EPOCHS: 18 LOSS 0.13245147466659546 \n",
            "EPOCHS: 19 LOSS 0.06666024029254913 \n",
            "EPOCHS: 20 LOSS 0.024974819272756577 \n",
            "EPOCHS: 21 LOSS 0.006580375600606203 \n",
            "EPOCHS: 22 LOSS 0.0024858922697603703 \n",
            "EPOCHS: 23 LOSS 0.004744086880236864 \n",
            "EPOCHS: 24 LOSS 0.006638416089117527 \n",
            "EPOCHS: 25 LOSS 0.019612083211541176 \n",
            "EPOCHS: 26 LOSS 0.0005532907671295106 \n",
            "EPOCHS: 27 LOSS 0.02523175999522209 \n",
            "EPOCHS: 28 LOSS 0.025793161243200302 \n",
            "EPOCHS: 29 LOSS 0.0002832518075592816 \n"
          ],
          "name": "stdout"
        }
      ]
    },
    {
      "cell_type": "code",
      "metadata": {
        "id": "E5ymAPlCzdhc",
        "colab_type": "code",
        "colab": {
          "base_uri": "https://localhost:8080/",
          "height": 295
        },
        "outputId": "7cd64b7d-038b-43fb-9db0-5f8aefa8df2a"
      },
      "source": [
        "import matplotlib.pyplot as plt\n",
        "plt.plot(e, l, 'g', label='Training loss')\n",
        "#plt.plot(epochs, loss_val, 'b', label='validation loss')\n",
        "plt.title('Training  loss')\n",
        "plt.xlabel('Epochs')\n",
        "plt.ylabel('Loss')\n",
        "plt.legend()\n",
        "plt.show()"
      ],
      "execution_count": 96,
      "outputs": [
        {
          "output_type": "display_data",
          "data": {
            "image/png": "[encoded data removed]",
            "text/plain": [
              "<Figure size 432x288 with 1 Axes>"
            ]
          },
          "metadata": {
            "tags": [],
            "needs_background": "light"
          }
        }
      ]
    },
    {
      "cell_type": "code",
      "metadata": {
        "id": "6oO1K4Oa0uz_",
        "colab_type": "code",
        "colab": {
          "base_uri": "https://localhost:8080/",
          "height": 35
        },
        "outputId": "355ccd91-d5f6-4b4e-e80c-97868c01d758"
      },
      "source": [
        "import numpy as np\n",
        "### making prediction\n",
        "correct_prediction = 0\n",
        "predictions = []\n",
        "total_case = 0\n",
        "net.eval() ### before prediction you need to set the evaluation mode\n",
        "for data in testloader:\n",
        "  ### list unpacking\n",
        "  inputs,labels = data\n",
        "  outputs = net(inputs)\n",
        "  ## show the out put of the each batch\n",
        "  predicted = torch.max(outputs.data,1)[1]\n",
        "  ## append in a prediction list\n",
        "  predictions.append(outputs)\n",
        "  total_case+=labels.size(0)  ## how you how many labels are there or how many test case\n",
        "  correct_prediction += (predicted == labels).sum().item()\n",
        "print(\"the testing set accuracy of the network :  {} %\".format(100 * correct_prediction/total_case))"
      ],
      "execution_count": 97,
      "outputs": [
        {
          "output_type": "stream",
          "text": [
            "the testing set accuracy of the network :  98.04 %\n"
          ],
          "name": "stdout"
        }
      ]
    },
    {
      "cell_type": "markdown",
      "metadata": {
        "id": "GJxzWy_72Sak",
        "colab_type": "text"
      },
      "source": [
        "Remember that torch.max() takes two arguments: -output.data - the tensor which contains the data.\n",
        "\n",
        "**Either 1 to do argmax or 0 to do max**"
      ]
    },
    {
      "cell_type": "code",
      "metadata": {
        "id": "VAnGhZzr04BI",
        "colab_type": "code",
        "colab": {}
      },
      "source": [
        ""
      ],
      "execution_count": 0,
      "outputs": []
    },
    {
      "cell_type": "markdown",
      "metadata": {
        "id": "dHNk-Tqj369A",
        "colab_type": "text"
      },
      "source": [
        "# **Sequential Module** \n",
        "Because we are using object oriented programming we can actually make this code more efficient and with less code we can do the same job we encapsulate all the layer that does the same job"
      ]
    },
    {
      "cell_type": "code",
      "metadata": {
        "id": "MV73KJ844NAA",
        "colab_type": "code",
        "colab": {}
      },
      "source": [
        "## smae network in encapsulated way\n",
        "\n",
        "class Net(nn.Module):\n",
        "  def __init__(self):\n",
        "    super(Net,self).__init__()\n",
        "\n",
        "    self.features = nn.Sequential(\n",
        "        nn.Conv2d(in_channels=1, out_channels=5, kernel_size=3, padding=1),\n",
        "        nn.ReLU(inplace=True),\n",
        "        nn.Conv2d(in_channels=5, out_channels=10, kernel_size=3, padding=1),\n",
        "        nn.MaxPool2d(2,2),\n",
        "        nn.ReLU(inplace=True),\n",
        "        nn.Conv2d(in_channels=10, out_channels=20, kernel_size=3, padding=1),\n",
        "        nn.ReLU(inplace=True),\n",
        "        nn.Conv2d(in_channels=20, out_channels=40, kernel_size=3, padding=1),\n",
        "        nn.MaxPool2d(2,2),\n",
        "        nn.ReLU(inplace=True)\n",
        "\n",
        "    )\n",
        "    self.classifier = nn.Sequential(\n",
        "        nn.Linear(7*7*40,1024),\n",
        "        nn.ReLU(inplace=True),\n",
        "        nn.Linear(1024,2048),  ## input neyron and output neuron\n",
        "        nn.ReLU(inplace=True),\n",
        "        nn.Linear(2048,10)\n",
        "    )\n",
        "\n",
        "  def forward(self,x):\n",
        "    x = self.features(x)\n",
        "    x = x.view(-1,7,7*40)\n",
        "    x = self.classifier(x)\n"
      ],
      "execution_count": 0,
      "outputs": []
    },
    {
      "cell_type": "code",
      "metadata": {
        "id": "OWCbK6Tj-VhT",
        "colab_type": "code",
        "colab": {}
      },
      "source": [
        ""
      ],
      "execution_count": 0,
      "outputs": []
    },
    {
      "cell_type": "markdown",
      "metadata": {
        "id": "CWY3Ij6sALj3",
        "colab_type": "text"
      },
      "source": [
        "## **Introducing validation set using sub sampleing the test data for checking overfitting**"
      ]
    },
    {
      "cell_type": "code",
      "metadata": {
        "id": "rdvBuHNbBejY",
        "colab_type": "code",
        "colab": {}
      },
      "source": [
        "# Shuffle the indices\n",
        "indices = np.arange(60000)\n",
        "np.random.shuffle(indices)\n",
        "\n",
        "# Build the train loader\n",
        "train_loader = torch.utils.data.DataLoader(torchvision.datasets.MNIST('mnist', download=True, train=True,\n",
        "                     transform=transforms.Compose([transforms.ToTensor(), transforms.Normalize((0.1307,), (0.3081,))])),\n",
        "                     batch_size=64, shuffle=False, sampler=torch.utils.data.SubsetRandomSampler(indices[:55000]))\n",
        "\n",
        "# Build the validation loader\n",
        "val_loader = torch.utils.data.DataLoader(torchvision.datasets.MNIST('mnist', download=True, train=True,\n",
        "                   transform=transforms.Compose([transforms.ToTensor(), transforms.Normalize((0.1307,), (0.3081,))])),\n",
        "                   batch_size=64, shuffle=False, sampler=torch.utils.data.SubsetRandomSampler(indices[55000:60000]))"
      ],
      "execution_count": 0,
      "outputs": []
    },
    {
      "cell_type": "code",
      "metadata": {
        "id": "wDNH0qvZCMMm",
        "colab_type": "code",
        "colab": {}
      },
      "source": [
        ""
      ],
      "execution_count": 0,
      "outputs": []
    },
    {
      "cell_type": "markdown",
      "metadata": {
        "id": "zRdaiRe8FIGg",
        "colab_type": "text"
      },
      "source": [
        "## **l2 Regularazation**\n",
        "to prevent over fitting we can use L2 regularaization . regularaizar penalize the large weight whaich affects the training in  a bad way .using regularazer in pytorch is very easy just add the weight_decay parameter in in the optimizer\n"
      ]
    },
    {
      "cell_type": "markdown",
      "metadata": {
        "id": "9Lbs6OZJLAVo",
        "colab_type": "text"
      },
      "source": [
        "## **Droput** \n",
        "adding droupout laer is another way of minimizing the the overfitting it drps the connection between two subsequent layer"
      ]
    },
    {
      "cell_type": "markdown",
      "metadata": {
        "id": "3Q43UF0iL7QS",
        "colab_type": "text"
      },
      "source": [
        "## **Batch normalzation and early stopping**\n",
        "batch normalizatio is used in any network and early stppoing  checks the accuracy of the validation checks and stop the network if the accuracy start to decrease"
      ]
    },
    {
      "cell_type": "markdown",
      "metadata": {
        "id": "pONHde9FM1KE",
        "colab_type": "text"
      },
      "source": [
        "## **In batch norm and droupout netwoek works differently** \n",
        "so use\n",
        "\n",
        "\n",
        "1.   **model.train()** for training\n",
        "2.   **model.eval()** for testing\n",
        "\n"
      ]
    },
    {
      "cell_type": "code",
      "metadata": {
        "id": "nrjGR9vXFS7k",
        "colab_type": "code",
        "colab": {}
      },
      "source": [
        "# Instantiate the network\n",
        "model = Net()\n",
        "\n",
        "# Instantiate the cross-entropy loss\n",
        "criterion = nn.CrossEntropyLoss()\n",
        "\n",
        "# Instantiate the Adam optimizer\n",
        "optimizer = optim.Adam(model.parameters(), lr=3e-4, weight_decay=0.001)"
      ],
      "execution_count": 0,
      "outputs": []
    },
    {
      "cell_type": "code",
      "metadata": {
        "id": "GhjeRCPsNvtT",
        "colab_type": "code",
        "colab": {}
      },
      "source": [
        "class Net(nn.Module):\n",
        "    def __init__(self):\n",
        "        \n",
        "        # Define all the parameters of the net\n",
        "        self.classifier = nn.Sequential(\n",
        "            nn.Linear(28*28, 200),\n",
        "            nn.ReLU(inplace=True),\n",
        "            nn.Dropout(.5),\n",
        "            nn.Linear(200,500),\n",
        "            nn.ReLU(inplace=True),\n",
        "            nn.Linear(500,10))\n",
        "    def forward(self,x):\n",
        "      return self.classifier(x)"
      ],
      "execution_count": 0,
      "outputs": []
    },
    {
      "cell_type": "code",
      "metadata": {
        "id": "FKvWGBrcOPuf",
        "colab_type": "code",
        "colab": {}
      },
      "source": [
        "class Net(nn.Module):\n",
        "    def __init__(self):\n",
        "        super(Net, self).__init__()\n",
        "        \n",
        "        # Implement the sequential module for feature extraction\n",
        "        self.features = nn.Sequential(\n",
        "            nn.Conv2d(in_channels=1, out_channels=10, kernel_size=3, stride=1, padding=1),\n",
        "            nn.MaxPool2d(2, 2), nn.ReLU(inplace=True), nn.BatchNorm2d(10),\n",
        "            nn.Conv2d(in_channels=10, out_channels=20, kernel_size=3, stride=1, padding=1),\n",
        "            nn.MaxPool2d(2, 2), nn.ReLU(inplace=True), nn.BatchNorm2d(20))\n",
        "        \n",
        "        # Implement the fully connected layer for classification\n",
        "        self.fc = nn.Linear(in_features=7*7*20, out_features=10)"
      ],
      "execution_count": 0,
      "outputs": []
    },
    {
      "cell_type": "markdown",
      "metadata": {
        "id": "nYaWyEfhPdLR",
        "colab_type": "text"
      },
      "source": [
        "## **Transfer Learning**\n",
        "the deeper you go into a network the feature become abstract that gives a chance to use CNN transfer laerning"
      ]
    },
    {
      "cell_type": "code",
      "metadata": {
        "id": "w27yprInPSFO",
        "colab_type": "code",
        "colab": {}
      },
      "source": [
        "# Import the module\n",
        "import torchvision\n",
        "\n",
        "# Download resnet18\n",
        "model = torchvision.models.resnet18(pretrained=True)\n",
        "\n",
        "# Freeze all the layers bar the last one\n",
        "for param in model.parameters():\n",
        "    param.requires_grad = False\n",
        "\n",
        "# Change the number of output units\n",
        "model.fc = nn.Linear(512, 7)\n",
        "## then apply the network in your image"
      ],
      "execution_count": 0,
      "outputs": []
    },
    {
      "cell_type": "code",
      "metadata": {
        "id": "wJOziSaTQI3D",
        "colab_type": "code",
        "colab": {}
      },
      "source": [
        ""
      ],
      "execution_count": 0,
      "outputs": []
    }
  ]
}